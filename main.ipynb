{
  "cells": [
    {
      "cell_type": "code",
      "execution_count": 2,
      "metadata": {
        "collapsed": true,
        "id": "J3S6lHetDzbX"
      },
      "outputs": [],
      "source": [
        "#coding=utf8\n",
        "import numpy as np\n",
        "import torch\n",
        "import PIL\n",
        "from PIL import Image\n",
        "\n",
        "\n",
        "#载入图片\n",
        "def load_image(path):\n",
        "    image = Image.open(path).convert(\"RGB\")\n",
        "    image = np.array(image).astype(np.float32) / 255.0   #(512, 512, 3)\n",
        "    image = image[None].transpose(0, 3, 1, 2)           # (1, 3, 512, 512)\n",
        "    image = torch.from_numpy(image)\n",
        "    return 2.*image - 1.\n",
        "\n",
        "#保存图片\n",
        "def save_image(samples, path):\n",
        "    samples = 255 * (samples/2+0.5).clamp(0,1)    # (1, 3, 512, 512)\n",
        "    samples = samples.detach().numpy()\n",
        "    samples = samples.transpose(0, 2, 3, 1)       #(1, 512, 512, 3)\n",
        "    image = samples[0]                            #(512, 512, 3)\n",
        "    image = Image.fromarray(image.astype(np.uint8))\n",
        "    image.save(path)"
      ]
    },
    {
      "cell_type": "code",
      "execution_count": null,
      "outputs": [],
      "source": [
        "\n"
      ],
      "metadata": {
        "pycharm": {
          "name": "#%%\n"
        },
        "id": "vlNZp4IaDzbY"
      }
    },
    {
      "cell_type": "markdown",
      "source": [
        "# 新段落"
      ],
      "metadata": {
        "id": "LI_KClDkEGdm"
      }
    }
  ],
  "metadata": {
    "kernelspec": {
      "display_name": "Python 3",
      "name": "python3"
    },
    "language_info": {
      "codemirror_mode": {
        "name": "ipython",
        "version": 2
      },
      "file_extension": ".py",
      "mimetype": "text/x-python",
      "name": "python",
      "nbconvert_exporter": "python",
      "pygments_lexer": "ipython2",
      "version": "2.7.6"
    },
    "colab": {
      "provenance": [],
      "gpuType": "T4"
    },
    "accelerator": "GPU"
  },
  "nbformat": 4,
  "nbformat_minor": 0
}